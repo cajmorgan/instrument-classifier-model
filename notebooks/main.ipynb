{
 "cells": [
  {
   "cell_type": "markdown",
   "id": "30505d15-4479-4d15-838e-9cfab7ffe76e",
   "metadata": {},
   "source": [
    "# Machine Learning"
   ]
  },
  {
   "cell_type": "code",
   "execution_count": 43,
   "id": "a81a6a20-9a21-4f2c-bfda-100d03659e89",
   "metadata": {},
   "outputs": [
    {
     "data": {
      "text/html": [
       "<div>\n",
       "<style scoped>\n",
       "    .dataframe tbody tr th:only-of-type {\n",
       "        vertical-align: middle;\n",
       "    }\n",
       "\n",
       "    .dataframe tbody tr th {\n",
       "        vertical-align: top;\n",
       "    }\n",
       "\n",
       "    .dataframe thead th {\n",
       "        text-align: right;\n",
       "    }\n",
       "</style>\n",
       "<table border=\"1\" class=\"dataframe\">\n",
       "  <thead>\n",
       "    <tr style=\"text-align: right;\">\n",
       "      <th></th>\n",
       "      <th>path</th>\n",
       "      <th>label</th>\n",
       "    </tr>\n",
       "  </thead>\n",
       "  <tbody>\n",
       "    <tr>\n",
       "      <th>2213</th>\n",
       "      <td>./data/drums/glitch-beat-001-128-bpm-99953.wav</td>\n",
       "      <td>3.0</td>\n",
       "    </tr>\n",
       "    <tr>\n",
       "      <th>1194</th>\n",
       "      <td>./data/piano/ROOM_room7_MUS_pachelbel_DEV_ster...</td>\n",
       "      <td>1.0</td>\n",
       "    </tr>\n",
       "    <tr>\n",
       "      <th>1487</th>\n",
       "      <td>./data/violin/violin_sound (181).wav</td>\n",
       "      <td>2.0</td>\n",
       "    </tr>\n",
       "    <tr>\n",
       "      <th>1785</th>\n",
       "      <td>./data/violin/violin_sounds (2).wav</td>\n",
       "      <td>2.0</td>\n",
       "    </tr>\n",
       "    <tr>\n",
       "      <th>2413</th>\n",
       "      <td>./data/drums/WaveDrum02_45SD (124).wav</td>\n",
       "      <td>3.0</td>\n",
       "    </tr>\n",
       "    <tr>\n",
       "      <th>...</th>\n",
       "      <td>...</td>\n",
       "      <td>...</td>\n",
       "    </tr>\n",
       "    <tr>\n",
       "      <th>1870</th>\n",
       "      <td>./data/violin/2_oliver-colbentson_bwv1006_mov1...</td>\n",
       "      <td>2.0</td>\n",
       "    </tr>\n",
       "    <tr>\n",
       "      <th>1635</th>\n",
       "      <td>./data/violin/VIOLIN_sound (320).wav</td>\n",
       "      <td>2.0</td>\n",
       "    </tr>\n",
       "    <tr>\n",
       "      <th>259</th>\n",
       "      <td>./data/guitar/G53-48108-1111-165.wav</td>\n",
       "      <td>0.0</td>\n",
       "    </tr>\n",
       "    <tr>\n",
       "      <th>142</th>\n",
       "      <td>./data/guitar/slow_folk_3_130BPM.wav</td>\n",
       "      <td>0.0</td>\n",
       "    </tr>\n",
       "    <tr>\n",
       "      <th>1601</th>\n",
       "      <td>./data/violin/VIOLIN_SOUND (89).wav</td>\n",
       "      <td>2.0</td>\n",
       "    </tr>\n",
       "  </tbody>\n",
       "</table>\n",
       "<p>2615 rows × 2 columns</p>\n",
       "</div>"
      ],
      "text/plain": [
       "                                                   path  label\n",
       "2213     ./data/drums/glitch-beat-001-128-bpm-99953.wav    3.0\n",
       "1194  ./data/piano/ROOM_room7_MUS_pachelbel_DEV_ster...    1.0\n",
       "1487               ./data/violin/violin_sound (181).wav    2.0\n",
       "1785                ./data/violin/violin_sounds (2).wav    2.0\n",
       "2413             ./data/drums/WaveDrum02_45SD (124).wav    3.0\n",
       "...                                                 ...    ...\n",
       "1870  ./data/violin/2_oliver-colbentson_bwv1006_mov1...    2.0\n",
       "1635               ./data/violin/VIOLIN_sound (320).wav    2.0\n",
       "259                ./data/guitar/G53-48108-1111-165.wav    0.0\n",
       "142                ./data/guitar/slow_folk_3_130BPM.wav    0.0\n",
       "1601                ./data/violin/VIOLIN_SOUND (89).wav    2.0\n",
       "\n",
       "[2615 rows x 2 columns]"
      ]
     },
     "execution_count": 43,
     "metadata": {},
     "output_type": "execute_result"
    }
   ],
   "source": [
    "import pandas as pd\n",
    "import os\n",
    "\n",
    "piano_paths = [ './data/piano/' + path for path in os.listdir('./data/piano')]\n",
    "violin_paths = [ './data/violin/' + path for path in os.listdir('./data/violin')]\n",
    "drums_paths = [ './data/drums/' + path for path in os.listdir('./data/drums')]\n",
    "guitar_paths = [ './data/guitar/' + path for path in os.listdir('./data/guitar')]\n",
    "\n",
    "df_1 = pd.DataFrame(data={\"path\": guitar_paths, \"label\": np.zeros(len(guitar_paths))})\n",
    "df_2 = pd.DataFrame(data={\"path\": piano_paths, \"label\": np.zeros(len(piano_paths)) + 1})\n",
    "df_3 = pd.DataFrame(data={\"path\": violin_paths, \"label\": np.zeros(len(violin_paths)) + 2})\n",
    "df_4 = pd.DataFrame(data={\"path\": drums_paths, \"label\": np.zeros(len(drums_paths)) + 3})\n",
    "\n",
    "df = pd.concat((df_1,df_2,df_3,df_4), axis=0).reset_index(drop=True)\n",
    "df_sample = df.sample(len(piano_paths) + len(violin_paths) + len(drums_paths) + len(guitar_paths))\n",
    "\n",
    "df_sample"
   ]
  },
  {
   "cell_type": "code",
   "execution_count": 44,
   "id": "f4b06bce-9f83-447d-b488-a872fdd9e549",
   "metadata": {},
   "outputs": [],
   "source": [
    "def feature_extraction(audio, sr, label):\n",
    "    #Spectral Centroids\n",
    "    spectral_centroids = librosa.feature.spectral_centroid(y=audio, sr=sr).mean()\n",
    "    \n",
    "    #Zero Crossings\n",
    "    zero_crossings = librosa.zero_crossings(audio, pad=False).mean()\n",
    "\n",
    "    #Spectral Rolloff\n",
    "    rolloff_mean = librosa.feature.spectral_rolloff(y=audio, sr=sr).mean()\n",
    "    rmse_mean = librosa.feature.rms(y=audio).reshape(-1).mean()\n",
    "    \n",
    "    #Mfccs\n",
    "    mfccs = librosa.feature.mfcc(y=audio, sr=sr, n_mels=15, n_fft=2048//2)\n",
    "    mfccs_mean = mfccs.mean(axis=1)\n",
    "    #mfccs_std = mfccs.std(axis=1)\n",
    "\n",
    "    contrast = librosa.feature.spectral_contrast(y=audio, sr=sr).mean(axis=1)\n",
    "\n",
    "    #Chroma\n",
    "    chroma_mean = librosa.feature.chroma_vqt(y=audio, sr=sr, intervals=\"equal\").mean(axis=1)\n",
    "\n",
    "    #Flatness\n",
    "    flatness = librosa.feature.spectral_flatness(y=audio).mean()\n",
    "    \n",
    "    return [spectral_centroids, rolloff_mean, zero_crossings, flatness, *contrast, *mfccs_mean,  *chroma_mean, label]"
   ]
  },
  {
   "cell_type": "code",
   "execution_count": 56,
   "id": "3938ef28-0b3e-47b8-be25-873fff480f5e",
   "metadata": {},
   "outputs": [
    {
     "name": "stdout",
     "output_type": "stream",
     "text": [
      "./data/drums/glitch-beat-001-128-bpm-99953.wav\n",
      "0\n"
     ]
    },
    {
     "data": {
      "text/plain": [
       "array([[ 3.41941891e+03,  6.42448679e+03,  9.42383799e-02,\n",
       "         3.92189249e-05,  1.47811665e+01,  6.92266294e+00,\n",
       "         8.05993426e+00,  1.21290390e+01,  1.27650944e+01,\n",
       "         1.59210643e+01,  6.69924239e+01, -1.20407959e+02,\n",
       "         2.66280460e+01, -3.14556265e+00,  3.21984634e+01,\n",
       "        -6.55021143e+00,  2.20452328e+01, -3.40677834e+00,\n",
       "         1.32287474e+01, -1.69414973e+00,  7.20673132e+00,\n",
       "         9.45796907e-01,  5.51760769e+00,  1.99944973e+00,\n",
       "         1.89734447e+00,  2.34754145e-01,  7.87333786e-01,\n",
       "         9.22071576e-01,  8.06294799e-01,  7.29921341e-01,\n",
       "         7.61927307e-01,  6.78505659e-01,  6.58824265e-01,\n",
       "         7.04975605e-01,  6.76971138e-01,  4.15457308e-01,\n",
       "         3.54534000e-01,  3.86828005e-01,  3.00000000e+00]])"
      ]
     },
     "execution_count": 56,
     "metadata": {},
     "output_type": "execute_result"
    }
   ],
   "source": [
    "import os \n",
    "\n",
    "all_features = []\n",
    "\n",
    "j = 0\n",
    "\n",
    "for i, (file, label) in df_sample.iterrows():\n",
    "    print(file)\n",
    "    audio, sr = librosa.load(file, sr=44100)\n",
    "    features = feature_extraction(audio, sr, label)\n",
    "    all_features.append(features)  \n",
    "    if j % 10 == 0:\n",
    "        print(j)\n",
    "\n",
    "    break\n",
    "    j+=1\n",
    "        \n",
    "all_features = np.array(all_features)\n",
    "all_features"
   ]
  },
  {
   "cell_type": "code",
   "execution_count": 57,
   "id": "c6e22863-a3c0-4e84-bd06-6d7d058e4c2e",
   "metadata": {},
   "outputs": [],
   "source": [
    "#Save to file\n",
    "#df = pd.DataFrame(all_features)\n",
    "#df.to_csv('./data/features.csv')\n",
    "df = pd.read_csv('./data/features.csv')"
   ]
  },
  {
   "cell_type": "code",
   "execution_count": 58,
   "id": "1f978c03-78e9-499c-b1b9-c16b147f92ee",
   "metadata": {
    "scrolled": true
   },
   "outputs": [
    {
     "data": {
      "text/plain": [
       "(2615, 40)"
      ]
     },
     "execution_count": 58,
     "metadata": {},
     "output_type": "execute_result"
    }
   ],
   "source": [
    "df.shape"
   ]
  },
  {
   "cell_type": "code",
   "execution_count": 59,
   "id": "15512f7f-8987-4d8e-b8f4-c327f121bd34",
   "metadata": {},
   "outputs": [],
   "source": [
    "from pyod.models.hbos import HBOS\n",
    "from pyod.utils.data import generate_data\n",
    "from pyod.utils.data import evaluate_print\n",
    "from pyod.models.auto_encoder import AutoEncoder\n",
    "from pyod.models.iforest import IForest\n",
    "from pyod.models.abod import ABOD\n",
    "\n",
    "X = df.iloc[:, :-1].to_numpy()\n",
    "y = df.iloc[:, -1].to_numpy().astype(int)\n",
    "\n",
    "model = ABOD(contamination=0.02)\n",
    "model.fit(X)\n",
    "y_test_scores = model.decision_function(X)\n",
    "y_test_pred = model.predict(X)\n",
    "inlier_indices = np.argwhere(y_test_pred == 0).T[0]\n"
   ]
  },
  {
   "cell_type": "code",
   "execution_count": 60,
   "id": "c55bcb62-a066-4ac8-913d-f198f37e8a7e",
   "metadata": {},
   "outputs": [],
   "source": [
    "from sklearn.model_selection import train_test_split\n",
    "from sklearn.preprocessing import StandardScaler\n",
    "\n",
    "scaler = StandardScaler()\n",
    "X = scaler.fit_transform(X)\n",
    "X_train, X_test, y_train, y_test = train_test_split(X[inlier_indices], y[inlier_indices], test_size=0.2, random_state=42)"
   ]
  },
  {
   "cell_type": "markdown",
   "id": "93954460-aa7a-4f8d-ac83-234514ce2180",
   "metadata": {},
   "source": [
    "# Neural Network\n",
    "\n"
   ]
  },
  {
   "cell_type": "code",
   "execution_count": 61,
   "id": "76d1d7c7-bbc6-409a-8b86-433452a76574",
   "metadata": {},
   "outputs": [],
   "source": [
    "import torch\n",
    "from torch import nn\n",
    "from torch.utils.data import DataLoader\n",
    "import torch\n",
    "from torch import nn\n",
    "from torch.utils.data import DataLoader\n",
    "import random\n",
    "from sklearn.model_selection import KFold\n",
    "\n"
   ]
  },
  {
   "cell_type": "code",
   "execution_count": 62,
   "id": "ce9b3756-8c8d-4b43-b3af-666f23d7d813",
   "metadata": {},
   "outputs": [],
   "source": [
    "X_train = torch.tensor(X_train).to(torch.float32)\n",
    "y_train = torch.tensor(y_train)"
   ]
  },
  {
   "cell_type": "code",
   "execution_count": 63,
   "id": "4f64cc6d-d8ba-4c7a-8826-07bc4d606e58",
   "metadata": {},
   "outputs": [],
   "source": [
    "X_test = torch.tensor(X_test).to(torch.float32)\n",
    "y_test = torch.tensor(y_test)"
   ]
  },
  {
   "cell_type": "code",
   "execution_count": 64,
   "id": "4e0c0fe6-ddfa-4247-bca5-c38e2fc6b0ca",
   "metadata": {},
   "outputs": [
    {
     "data": {
      "text/plain": [
       "torch.Size([2050, 38])"
      ]
     },
     "execution_count": 64,
     "metadata": {},
     "output_type": "execute_result"
    }
   ],
   "source": [
    "X_train[:, 1:].shape"
   ]
  },
  {
   "cell_type": "code",
   "execution_count": 65,
   "id": "20f15580-347c-4961-ba14-32a824945926",
   "metadata": {},
   "outputs": [
    {
     "data": {
      "text/plain": [
       "39"
      ]
     },
     "execution_count": 65,
     "metadata": {},
     "output_type": "execute_result"
    }
   ],
   "source": [
    "X_train.shape[1]"
   ]
  },
  {
   "cell_type": "code",
   "execution_count": 386,
   "id": "a51fd376-6707-4640-bfab-8927ba173f78",
   "metadata": {},
   "outputs": [
    {
     "name": "stdout",
     "output_type": "stream",
     "text": [
      "1.3911335468292236\n",
      "0.5608007907867432\n",
      "0.25153645873069763\n",
      "0.1594042032957077\n",
      "0.11927435547113419\n",
      "0.09237854927778244\n",
      "0.08010634034872055\n",
      "0.07327760010957718\n",
      "0.061899583786726\n",
      "0.052248694002628326\n",
      "0.045944780111312866\n",
      "0.039317935705184937\n",
      "0.03400692716240883\n",
      "0.03219311311841011\n",
      "0.029306666925549507\n",
      "0.028924226760864258\n"
     ]
    },
    {
     "data": {
      "text/plain": [
       "Network(\n",
       "  (linear_relu_stack): Sequential(\n",
       "    (0): Linear(in_features=39, out_features=25, bias=True)\n",
       "    (1): ReLU()\n",
       "    (2): Linear(in_features=25, out_features=15, bias=True)\n",
       "    (3): ReLU()\n",
       "    (4): Dropout(p=0.2, inplace=False)\n",
       "    (5): Linear(in_features=15, out_features=4, bias=True)\n",
       "  )\n",
       ")"
      ]
     },
     "execution_count": 386,
     "metadata": {},
     "output_type": "execute_result"
    }
   ],
   "source": [
    "class Network(nn.Module):\n",
    "    def __init__(self):\n",
    "        super().__init__()\n",
    "        self.linear_relu_stack = nn.Sequential(\n",
    "            nn.Linear(X_train.shape[1], 25),\n",
    "            nn.ReLU(),\n",
    "            nn.Linear(25, 15),\n",
    "            nn.ReLU(),\n",
    "            nn.Dropout(p=0.2),\n",
    "            nn.Linear(15, 4),\n",
    "        )\n",
    "\n",
    "    def forward(self, x):\n",
    "        logits = self.linear_relu_stack(x)\n",
    "        return logits\n",
    "\n",
    "\n",
    "torch.use_deterministic_algorithms(True)\n",
    "torch.manual_seed(42)\n",
    "\n",
    "# Set a seed for NumPy\n",
    "np.random.seed(42)\n",
    "\n",
    "# Set a seed for Python's built-in random module\n",
    "random.seed(42)\n",
    "\n",
    "# Check if CUDA (GPU) is available and set a seed for it\n",
    "if torch.cuda.is_available():\n",
    "    torch.cuda.manual_seed(42)\n",
    "    torch.backends.cudnn.deterministic = True\n",
    "    torch.backends.cudnn.benchmark = False\n",
    "\n",
    "\n",
    "lr = 0.001\n",
    "epochs = 1591\n",
    "\n",
    "\n",
    "net = Network()\n",
    "net.train()\n",
    "loss_fn = nn.CrossEntropyLoss()\n",
    "optimizer = torch.optim.Adam(net.parameters(), lr=lr)\n",
    "\n",
    "loss_curve = []\n",
    "train_curve = []\n",
    "test_curve = []\n",
    "for i in range(epochs):\n",
    "    optimizer.zero_grad()\n",
    "    pred = net(X_train)\n",
    "    loss = loss_fn(pred, y_train)\n",
    "    \n",
    "    loss.backward()\n",
    "    optimizer.step()\n",
    "    loss_curve.append(loss.item())\n",
    "    train_curve.append(((y_train == net(X_train).max(axis=1)[1]).sum()/y_train.shape[0]).item())\n",
    "    test_curve.append(((y_test == net(X_test).max(axis=1)[1]).sum()/y_test.shape[0]).item())\n",
    "\n",
    "    if i % 100 == 0:\n",
    "        print(loss.item())\n",
    "\n",
    "net.eval()\n"
   ]
  },
  {
   "cell_type": "code",
   "execution_count": 387,
   "id": "9698d802-1d75-4328-b0ff-80121a9b4ea1",
   "metadata": {},
   "outputs": [],
   "source": [
    "#torch.save(net.state_dict(), './model_weights.pt')"
   ]
  },
  {
   "cell_type": "code",
   "execution_count": 397,
   "id": "55bd496f-3a50-46cd-857f-6edae1237883",
   "metadata": {},
   "outputs": [
    {
     "name": "stdout",
     "output_type": "stream",
     "text": [
      "1591 Epochs highest\n",
      "0.988304078578949 Highest score\n"
     ]
    }
   ],
   "source": [
    "print(np.array(test_curve).argmax()+1, \"Epochs highest\")\n",
    "print(np.array(test_curve).max(), \"Highest score\")"
   ]
  },
  {
   "cell_type": "code",
   "execution_count": 389,
   "id": "67777bd9-4858-4da4-85f4-b060863b3f98",
   "metadata": {},
   "outputs": [
    {
     "data": {
      "text/plain": [
       "0.988304078578949"
      ]
     },
     "execution_count": 389,
     "metadata": {},
     "output_type": "execute_result"
    }
   ],
   "source": [
    "test_curve[-1]"
   ]
  },
  {
   "cell_type": "code",
   "execution_count": 392,
   "id": "6a4c933c-63ce-42c6-9547-8d8ac5b030e2",
   "metadata": {},
   "outputs": [
    {
     "data": {
      "image/png": "[encoded data removed]",
      "text/plain": [
       "<Figure size 640x480 with 1 Axes>"
      ]
     },
     "metadata": {},
     "output_type": "display_data"
    }
   ],
   "source": [
    "import seaborn as sns \n",
    "sns.lineplot(train_curve, color=\"blue\", label=\"train_acc\")\n",
    "sns.lineplot(test_curve, color=\"red\", label=\"test_acc\")\n",
    "plt.xlabel(\"Epochs\")\n",
    "plt.ylabel(\"Accuracy\")\n",
    "plt.savefig(\"train-test-accuracy.png\")"
   ]
  },
  {
   "cell_type": "code",
   "execution_count": 394,
   "id": "a0bbf61b-6640-40af-a502-9cfc8fe5a428",
   "metadata": {},
   "outputs": [
    {
     "data": {
      "image/png": "[encoded data removed]",
      "text/plain": [
       "<Figure size 640x480 with 1 Axes>"
      ]
     },
     "metadata": {},
     "output_type": "display_data"
    }
   ],
   "source": [
    "sns.lineplot(loss_curve, color=\"red\", label=\"loss\")\n",
    "plt.xlabel(\"Epochs\")\n",
    "plt.savefig(\"loss.png\")"
   ]
  },
  {
   "cell_type": "code",
   "execution_count": 395,
   "id": "dc438725-e0de-4dcb-9bf4-0b72bf7dbdc3",
   "metadata": {},
   "outputs": [
    {
     "data": {
      "text/plain": [
       "tensor(0.9951)"
      ]
     },
     "execution_count": 395,
     "metadata": {},
     "output_type": "execute_result"
    }
   ],
   "source": [
    "(y_train == net(X_train).max(axis=1)[1]).sum()/y_train.shape[0]"
   ]
  },
  {
   "cell_type": "code",
   "execution_count": 396,
   "id": "95142252-8e26-4350-8d99-2df8f2c23e09",
   "metadata": {},
   "outputs": [
    {
     "data": {
      "text/plain": [
       "tensor(0.9805)"
      ]
     },
     "execution_count": 396,
     "metadata": {},
     "output_type": "execute_result"
    }
   ],
   "source": [
    "(y_test == net(X_test).max(axis=1)[1]).sum()/y_test.shape[0]"
   ]
  },
  {
   "cell_type": "code",
   "execution_count": 313,
   "id": "c909ea76-7d0c-4217-97e5-5ef9c635697a",
   "metadata": {},
   "outputs": [],
   "source": [
    "from sklearn.metrics import confusion_matrix, ConfusionMatrixDisplay"
   ]
  },
  {
   "cell_type": "code",
   "execution_count": 314,
   "id": "d5170820-080a-493f-ad1c-918bf1ff88f1",
   "metadata": {},
   "outputs": [
    {
     "data": {
      "text/plain": [
       "array([0, 1, 2, 3])"
      ]
     },
     "execution_count": 314,
     "metadata": {},
     "output_type": "execute_result"
    }
   ],
   "source": [
    "labels = np.array([0,1,2,3])\n",
    "labels"
   ]
  },
  {
   "cell_type": "code",
   "execution_count": 315,
   "id": "01ff2180-f3b7-4a4d-aa5a-955867d467ee",
   "metadata": {},
   "outputs": [],
   "source": [
    "def label_to_class(label):\n",
    "    if label == \"Sound_Guitar\":\n",
    "        return 0\n",
    "\n",
    "    if label == \"Sound_Piano\":\n",
    "        return 1\n",
    "\n",
    "    if label == \"Sound_Violin\":\n",
    "        return 2\n",
    "\n",
    "    if label == \"Sound_Drum\":\n",
    "        return 3"
   ]
  },
  {
   "cell_type": "code",
   "execution_count": null,
   "id": "21f5bd63-71de-44b3-b43f-3e518c795ceb",
   "metadata": {},
   "outputs": [],
   "source": []
  },
  {
   "cell_type": "code",
   "execution_count": 402,
   "id": "68dded49-f8fd-4fda-accd-929bed7c4f89",
   "metadata": {},
   "outputs": [
    {
     "data": {
      "image/png": "[encoded data removed]",
      "text/plain": [
       "<Figure size 640x480 with 2 Axes>"
      ]
     },
     "metadata": {},
     "output_type": "display_data"
    }
   ],
   "source": [
    "import matplotlib.pyplot as plt\n",
    "\n",
    "cm = confusion_matrix(y_true=y_test, y_pred=net(X_test).max(axis=1)[1], labels=labels)\n",
    "disp = ConfusionMatrixDisplay(confusion_matrix=cm, display_labels=labels)\n",
    "disp.plot()\n",
    "plt.show()\n",
    "disp.figure_.savefig(\"./good_confusion_matrix.png\",dpi=300)"
   ]
  },
  {
   "cell_type": "code",
   "execution_count": 399,
   "id": "0fe338b9-8c7c-4393-aaf5-3a91aef8c802",
   "metadata": {},
   "outputs": [
    {
     "data": {
      "text/plain": [
       "<Figure size 640x480 with 0 Axes>"
      ]
     },
     "metadata": {},
     "output_type": "display_data"
    }
   ],
   "source": []
  },
  {
   "cell_type": "code",
   "execution_count": null,
   "id": "11be451f-9712-4a4c-8ed0-f5140f78e30e",
   "metadata": {},
   "outputs": [],
   "source": []
  }
 ],
 "metadata": {
  "kernelspec": {
   "display_name": "Python 3 (ipykernel)",
   "language": "python",
   "name": "python3"
  },
  "language_info": {
   "codemirror_mode": {
    "name": "ipython",
    "version": 3
   },
   "file_extension": ".py",
   "mimetype": "text/x-python",
   "name": "python",
   "nbconvert_exporter": "python",
   "pygments_lexer": "ipython3",
   "version": "3.10.13"
  }
 },
 "nbformat": 4,
 "nbformat_minor": 5
}
